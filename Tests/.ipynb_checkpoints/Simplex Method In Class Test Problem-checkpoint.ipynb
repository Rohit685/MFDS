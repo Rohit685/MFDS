{
 "cells": [
  {
   "cell_type": "code",
   "execution_count": 7,
   "id": "dd8536c6",
   "metadata": {},
   "outputs": [
    {
     "name": "stdout",
     "output_type": "stream",
     "text": [
      "Requirement already satisfied: pulp in c:\\users\\rohit\\anaconda3\\lib\\site-packages (2.7.0)\n"
     ]
    }
   ],
   "source": [
    "!pip install pulp"
   ]
  },
  {
   "cell_type": "code",
   "execution_count": 3,
   "id": "45515d97",
   "metadata": {},
   "outputs": [
    {
     "ename": "SyntaxError",
     "evalue": "f-string: invalid syntax (1276758147.py, line 30)",
     "output_type": "error",
     "traceback": [
      "\u001b[1;36m  File \u001b[1;32m\"C:\\Users\\rohit\\AppData\\Local\\Temp\\ipykernel_1176\\1276758147.py\"\u001b[1;36m, line \u001b[1;32m30\u001b[0m\n\u001b[1;33m    print(f\"Max: {70*value(x1) + 65*value(x2) + 80*value(x3) + 75*value(x4).:2f}\")\u001b[0m\n\u001b[1;37m                                                               ^\u001b[0m\n\u001b[1;31mSyntaxError\u001b[0m\u001b[1;31m:\u001b[0m f-string: invalid syntax\n"
     ]
    }
   ],
   "source": [
    "from pulp import LpVariable, LpProblem, LpMaximize, LpStatus, value, LpMinimize\n",
    "\n",
    "# Delcaring variables\n",
    "\n",
    "x1 = LpVariable(\"x1\",lowBound=0)\n",
    "x2 = LpVariable(\"x2\",lowBound=0)\n",
    "x3 = LpVariable(\"x3\",lowBound=0)\n",
    "x4 = LpVariable(\"x4\",lowBound=0)\n",
    "\n",
    "# Defining the problem\n",
    "\n",
    "problem = LpProblem(\"problem\",LpMaximize)\n",
    "\n",
    "# Defining the constraints\n",
    "\n",
    "problem += 2*x1 + x2 + 5*x3 + 6*x4 <= 100\n",
    "problem += 4*x1+ 5*x2 + 3*x3 + 6*x4 <= 120\n",
    "problem += 7*x1 + 3*x2 + 4*x3 + 4*x4 <= 90\n",
    "\n",
    "# Defining the objective function\n",
    "\n",
    "problem += 70*x1 + 65*x2 + 80*x3 + 75*x4\n",
    "\n",
    "# Solving the problem\n",
    "\n",
    "solution = problem.solve()\n",
    "LpStatus[solution]\n",
    "\n",
    "print(f\"Value of x1: {value(x1)} \\nValue of x2: {value(x2):.2f} \\nValue of x3: {value(x3):.2f} \\nValue of x4: {value(x4)}\")\n",
    "print(f\"Max: {70*value(x1) + 65*value(x2) + 80*value(x3) + 75*value(x4)}\")"
   ]
  },
  {
   "cell_type": "code",
   "execution_count": null,
   "id": "df263f3a",
   "metadata": {},
   "outputs": [],
   "source": []
  }
 ],
 "metadata": {
  "kernelspec": {
   "display_name": "Python 3 (ipykernel)",
   "language": "python",
   "name": "python3"
  },
  "language_info": {
   "codemirror_mode": {
    "name": "ipython",
    "version": 3
   },
   "file_extension": ".py",
   "mimetype": "text/x-python",
   "name": "python",
   "nbconvert_exporter": "python",
   "pygments_lexer": "ipython3",
   "version": "3.9.13"
  }
 },
 "nbformat": 4,
 "nbformat_minor": 5
}
