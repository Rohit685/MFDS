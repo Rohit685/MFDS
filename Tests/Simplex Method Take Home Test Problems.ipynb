{
 "cells": [
  {
   "cell_type": "code",
   "execution_count": 1,
   "id": "dd8536c6",
   "metadata": {},
   "outputs": [
    {
     "name": "stdout",
     "output_type": "stream",
     "text": [
      "Requirement already satisfied: pulp in c:\\users\\rohit\\anaconda3\\lib\\site-packages (2.7.0)\n"
     ]
    }
   ],
   "source": [
    "!pip install pulp"
   ]
  },
  {
   "cell_type": "code",
   "execution_count": 4,
   "id": "45515d97",
   "metadata": {},
   "outputs": [
    {
     "name": "stdout",
     "output_type": "stream",
     "text": [
      "Value of x1: 0.0 \n",
      "Value of x2: 19.09 \n",
      "Value of x3: 8.18 \n",
      "Value of x4: 0.0\n",
      "Max: 1895.454541\n"
     ]
    }
   ],
   "source": [
    "from pulp import LpVariable, LpProblem, LpMaximize, LpStatus, value, LpMinimize\n",
    "\n",
    "# Delcaring variables\n",
    "\n",
    "x1 = LpVariable(\"x1\",lowBound=0)\n",
    "x2 = LpVariable(\"x2\",lowBound=0)\n",
    "x3 = LpVariable(\"x3\",lowBound=0)\n",
    "x4 = LpVariable(\"x4\",lowBound=0)\n",
    "\n",
    "# Defining the problem\n",
    "\n",
    "problem = LpProblem(\"problem\",LpMaximize)\n",
    "\n",
    "# Defining the constraints\n",
    "\n",
    "problem += 2*x1 + x2 + 5*x3 + 6*x4 <= 100\n",
    "problem += 4*x1+ 5*x2 + 3*x3 + 6*x4 <= 120\n",
    "problem += 7*x1 + 3*x2 + 4*x3 + 4*x4 <= 90\n",
    "\n",
    "# Defining the objective function\n",
    "\n",
    "problem += 70*x1 + 65*x2 + 80*x3 + 75*x4\n",
    "\n",
    "# Solving the problem\n",
    "\n",
    "solution = problem.solve()\n",
    "LpStatus[solution]\n",
    "\n",
    "print(f\"Value of x1: {value(x1)} \\nValue of x2: {value(x2):.2f} \\nValue of x3: {value(x3):.2f} \\nValue of x4: {value(x4)}\")\n",
    "print(f\"Max: {70*value(x1) + 65*value(x2) + 80*value(x3) + 75*value(x4)}\")"
   ]
  },
  {
   "cell_type": "code",
   "execution_count": null,
   "id": "8560433b",
   "metadata": {},
   "outputs": [],
   "source": []
  }
 ],
 "metadata": {
  "kernelspec": {
   "display_name": "Python 3 (ipykernel)",
   "language": "python",
   "name": "python3"
  },
  "language_info": {
   "codemirror_mode": {
    "name": "ipython",
    "version": 3
   },
   "file_extension": ".py",
   "mimetype": "text/x-python",
   "name": "python",
   "nbconvert_exporter": "python",
   "pygments_lexer": "ipython3",
   "version": "3.9.13"
  }
 },
 "nbformat": 4,
 "nbformat_minor": 5
}
