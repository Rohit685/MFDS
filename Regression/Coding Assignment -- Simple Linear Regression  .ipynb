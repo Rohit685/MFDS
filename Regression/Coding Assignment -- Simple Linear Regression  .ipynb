{
 "cells": [
  {
   "cell_type": "markdown",
   "id": "233563c3",
   "metadata": {},
   "source": [
    "# <center><b>Math for Data Science</b></center>\n",
    "\n",
    "# <center><b>Simple Linear Regression</b></center>\n",
    "\n",
    "# <center><b>Coding Assignment</b></center>"
   ]
  },
  {
   "cell_type": "markdown",
   "id": "8dcb2a65",
   "metadata": {},
   "source": [
    "<div class=\"alert alert-block alert-warning\">\n",
    "    <b><font size=\"4\">Files needed for this assignment:</font></b>\n",
    "</div>"
   ]
  },
  {
   "cell_type": "markdown",
   "id": "8f375161",
   "metadata": {},
   "source": [
    "[**Salaries**](https://docs.google.com/spreadsheets/d/1UbfcRDFqKpAfzKvTyhIPfsYvtHR4tP5C1w1SWDZo8UE/edit?usp=share_link)"
   ]
  },
  {
   "cell_type": "markdown",
   "source": [
    "## Importing libraries needed"
   ],
   "metadata": {
    "collapsed": false
   }
  },
  {
   "cell_type": "code",
   "execution_count": 3,
   "outputs": [],
   "source": [
    "import pandas as pd"
   ],
   "metadata": {
    "collapsed": false
   }
  },
  {
   "cell_type": "markdown",
   "id": "ac729058",
   "metadata": {},
   "source": [
    "## Display multiple output in one cell"
   ]
  },
  {
   "cell_type": "code",
   "execution_count": 1,
   "id": "a4b2a876",
   "metadata": {},
   "outputs": [
    {
     "name": "stdout",
     "output_type": "stream",
     "text": [
      "The notebook is set up to display multiple output in one cell.\n"
     ]
    }
   ],
   "source": [
    "# set up notebook to display multiple output in one cell\n",
    "\n",
    "from IPython.core.interactiveshell import InteractiveShell\n",
    "InteractiveShell.ast_node_interactivity = \"all\"\n",
    "\n",
    "print('The notebook is set up to display multiple output in one cell.')"
   ]
  },
  {
   "cell_type": "markdown",
   "id": "5d87538e",
   "metadata": {},
   "source": [
    "<div class=\"alert alert-block alert-success\">\n",
    "\n",
    "**Task #1**:&emsp;Import the Python libraries that you will need to conduct a Simple Linear Regression analysis on the **Salaries** dataset.<br>\n",
    "    \n",
    "**Task #2**:&emsp;Load the **Salaries** dataset and store the results in a DataFrame named <b>salaries</b>.<br>\n",
    "    \n",
    "**Task #3**:&emsp;Write code to do some preliminary investigation of the **Salaries** dataset.<br>\n",
    "    \n",
    "**Task #4**:&emsp;Use the statsmodels library to perform simple linear regression on the **Salaries** dataset.<br>\n",
    "    \n",
    "**Task #5**:&emsp;Create a markdown cell to interpret the regression output that you obtained from Task #4.<br>\n",
    "    \n",
    "**Task #6:**&emsp;Use the sklearn library to perform simple linear regression on the **Salaries** dataset.<br>"
   ]
  },
  {
   "cell_type": "code",
   "execution_count": 8,
   "id": "fc281e87",
   "metadata": {},
   "outputs": [],
   "source": [
    "salaries = pd.read_excel(\"Salaries.xlsx\")"
   ]
  },
  {
   "cell_type": "code",
   "execution_count": 9,
   "outputs": [
    {
     "data": {
      "text/plain": "    YearsExperience  Salary\n0               1.1   39343\n1               1.3   46205\n2               1.5   37731\n3               2.0   43525\n4               2.2   39891\n5               2.9   56642\n6               3.0   60150\n7               3.2   54445\n8               3.2   64445\n9               3.7   57189\n10              3.9   63218\n11              4.0   55794\n12              4.0   56957\n13              4.1   57081\n14              4.5   61111\n15              4.9   67938\n16              5.1   66029\n17              5.3   83088\n18              5.9   81363\n19              6.0   93940\n20              6.8   91738\n21              7.1   98273\n22              7.9  101302\n23              8.2  113812\n24              8.7  109431\n25              9.0  105582\n26              9.5  116969\n27              9.6  112635\n28             10.3  122391\n29             10.5  121872",
      "text/html": "<div>\n<style scoped>\n    .dataframe tbody tr th:only-of-type {\n        vertical-align: middle;\n    }\n\n    .dataframe tbody tr th {\n        vertical-align: top;\n    }\n\n    .dataframe thead th {\n        text-align: right;\n    }\n</style>\n<table border=\"1\" class=\"dataframe\">\n  <thead>\n    <tr style=\"text-align: right;\">\n      <th></th>\n      <th>YearsExperience</th>\n      <th>Salary</th>\n    </tr>\n  </thead>\n  <tbody>\n    <tr>\n      <th>0</th>\n      <td>1.1</td>\n      <td>39343</td>\n    </tr>\n    <tr>\n      <th>1</th>\n      <td>1.3</td>\n      <td>46205</td>\n    </tr>\n    <tr>\n      <th>2</th>\n      <td>1.5</td>\n      <td>37731</td>\n    </tr>\n    <tr>\n      <th>3</th>\n      <td>2.0</td>\n      <td>43525</td>\n    </tr>\n    <tr>\n      <th>4</th>\n      <td>2.2</td>\n      <td>39891</td>\n    </tr>\n    <tr>\n      <th>5</th>\n      <td>2.9</td>\n      <td>56642</td>\n    </tr>\n    <tr>\n      <th>6</th>\n      <td>3.0</td>\n      <td>60150</td>\n    </tr>\n    <tr>\n      <th>7</th>\n      <td>3.2</td>\n      <td>54445</td>\n    </tr>\n    <tr>\n      <th>8</th>\n      <td>3.2</td>\n      <td>64445</td>\n    </tr>\n    <tr>\n      <th>9</th>\n      <td>3.7</td>\n      <td>57189</td>\n    </tr>\n    <tr>\n      <th>10</th>\n      <td>3.9</td>\n      <td>63218</td>\n    </tr>\n    <tr>\n      <th>11</th>\n      <td>4.0</td>\n      <td>55794</td>\n    </tr>\n    <tr>\n      <th>12</th>\n      <td>4.0</td>\n      <td>56957</td>\n    </tr>\n    <tr>\n      <th>13</th>\n      <td>4.1</td>\n      <td>57081</td>\n    </tr>\n    <tr>\n      <th>14</th>\n      <td>4.5</td>\n      <td>61111</td>\n    </tr>\n    <tr>\n      <th>15</th>\n      <td>4.9</td>\n      <td>67938</td>\n    </tr>\n    <tr>\n      <th>16</th>\n      <td>5.1</td>\n      <td>66029</td>\n    </tr>\n    <tr>\n      <th>17</th>\n      <td>5.3</td>\n      <td>83088</td>\n    </tr>\n    <tr>\n      <th>18</th>\n      <td>5.9</td>\n      <td>81363</td>\n    </tr>\n    <tr>\n      <th>19</th>\n      <td>6.0</td>\n      <td>93940</td>\n    </tr>\n    <tr>\n      <th>20</th>\n      <td>6.8</td>\n      <td>91738</td>\n    </tr>\n    <tr>\n      <th>21</th>\n      <td>7.1</td>\n      <td>98273</td>\n    </tr>\n    <tr>\n      <th>22</th>\n      <td>7.9</td>\n      <td>101302</td>\n    </tr>\n    <tr>\n      <th>23</th>\n      <td>8.2</td>\n      <td>113812</td>\n    </tr>\n    <tr>\n      <th>24</th>\n      <td>8.7</td>\n      <td>109431</td>\n    </tr>\n    <tr>\n      <th>25</th>\n      <td>9.0</td>\n      <td>105582</td>\n    </tr>\n    <tr>\n      <th>26</th>\n      <td>9.5</td>\n      <td>116969</td>\n    </tr>\n    <tr>\n      <th>27</th>\n      <td>9.6</td>\n      <td>112635</td>\n    </tr>\n    <tr>\n      <th>28</th>\n      <td>10.3</td>\n      <td>122391</td>\n    </tr>\n    <tr>\n      <th>29</th>\n      <td>10.5</td>\n      <td>121872</td>\n    </tr>\n  </tbody>\n</table>\n</div>"
     },
     "execution_count": 9,
     "metadata": {},
     "output_type": "execute_result"
    }
   ],
   "source": [
    "salaries"
   ],
   "metadata": {
    "collapsed": false
   }
  },
  {
   "cell_type": "code",
   "execution_count": null,
   "outputs": [],
   "source": [],
   "metadata": {
    "collapsed": false
   }
  }
 ],
 "metadata": {
  "kernelspec": {
   "display_name": "Python 3",
   "language": "python",
   "name": "python3"
  },
  "language_info": {
   "codemirror_mode": {
    "name": "ipython",
    "version": 3
   },
   "file_extension": ".py",
   "mimetype": "text/x-python",
   "name": "python",
   "nbconvert_exporter": "python",
   "pygments_lexer": "ipython3",
   "version": "3.8.8"
  }
 },
 "nbformat": 4,
 "nbformat_minor": 5
}
